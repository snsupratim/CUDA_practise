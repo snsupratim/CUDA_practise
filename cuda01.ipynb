{
  "nbformat": 4,
  "nbformat_minor": 0,
  "metadata": {
    "colab": {
      "provenance": []
    },
    "kernelspec": {
      "name": "python3",
      "display_name": "Python 3"
    },
    "language_info": {
      "name": "python"
    }
  },
  "cells": [
    {
      "cell_type": "code",
      "source": [
        "# Step 1: Write CUDA code to a file\n",
        "code = \"\"\"\n",
        "#include <stdio.h>\n",
        "#include <cuda.h>\n",
        "\n",
        "#define N 512  // Size of the vectors\n",
        "\n",
        "// CUDA kernel for vector addition\n",
        "__global__ void vectorAdd(float *A, float *B, float *C, int n) {\n",
        "    int idx = blockIdx.x * blockDim.x + threadIdx.x;\n",
        "    if (idx < n) {\n",
        "        C[idx] = A[idx] + B[idx];\n",
        "    }\n",
        "}\n",
        "\n",
        "int main() {\n",
        "    int size = N * sizeof(float);\n",
        "    float *h_A, *h_B, *h_C;  // Host vectors\n",
        "    float *d_A, *d_B, *d_C;  // Device vectors\n",
        "\n",
        "    // Allocate memory on the host\n",
        "    h_A = (float*)malloc(size);\n",
        "    h_B = (float*)malloc(size);\n",
        "    h_C = (float*)malloc(size);\n",
        "\n",
        "    // Initialize the host vectors\n",
        "    for (int i = 0; i < N; i++) {\n",
        "        h_A[i] = i * 1.0f;\n",
        "        h_B[i] = i * 2.0f;\n",
        "    }\n",
        "\n",
        "    // Allocate memory on the device\n",
        "    cudaMalloc((void**)&d_A, size);\n",
        "    cudaMalloc((void**)&d_B, size);\n",
        "    cudaMalloc((void**)&d_C, size);\n",
        "\n",
        "    // Copy vectors from host to device\n",
        "    cudaMemcpy(d_A, h_A, size, cudaMemcpyHostToDevice);\n",
        "    cudaMemcpy(d_B, h_B, size, cudaMemcpyHostToDevice);\n",
        "\n",
        "    // Define the block and grid sizes\n",
        "    int threadsPerBlock = 256;\n",
        "    int blocksPerGrid = (N + threadsPerBlock - 1) / threadsPerBlock;\n",
        "\n",
        "    // Launch the kernel\n",
        "    vectorAdd<<<blocksPerGrid, threadsPerBlock>>>(d_A, d_B, d_C, N);\n",
        "\n",
        "    // Copy result from device to host\n",
        "    cudaMemcpy(h_C, d_C, size, cudaMemcpyDeviceToHost);\n",
        "\n",
        "    // Print the result\n",
        "    for (int i = 0; i < 10; i++) {\n",
        "        printf(\"C[%d] = %f\\\\n\", i, h_C[i]);\n",
        "    }\n",
        "\n",
        "    // Free device memory\n",
        "    cudaFree(d_A);\n",
        "    cudaFree(d_B);\n",
        "    cudaFree(d_C);\n",
        "\n",
        "    // Free host memory\n",
        "    free(h_A);\n",
        "    free(h_B);\n",
        "    free(h_C);\n",
        "\n",
        "    return 0;\n",
        "}\n",
        "\"\"\"\n",
        "\n",
        "# Write the code to a file\n",
        "with open('vector_add.cu', 'w') as f:\n",
        "    f.write(code)\n",
        "\n",
        "# Step 2: Compile the CUDA code\n",
        "!nvcc vector_add.cu -o vector_add\n",
        "\n",
        "# Step 3: Run the compiled CUDA program\n",
        "!./vector_add\n"
      ],
      "metadata": {
        "colab": {
          "base_uri": "https://localhost:8080/"
        },
        "id": "CSUbcvE7nPWM",
        "outputId": "41e5aede-014c-4353-f1cc-ba1bf1bdde44"
      },
      "execution_count": 2,
      "outputs": [
        {
          "output_type": "stream",
          "name": "stdout",
          "text": [
            "C[0] = 0.000000\n",
            "C[1] = 3.000000\n",
            "C[2] = 6.000000\n",
            "C[3] = 9.000000\n",
            "C[4] = 12.000000\n",
            "C[5] = 15.000000\n",
            "C[6] = 18.000000\n",
            "C[7] = 21.000000\n",
            "C[8] = 24.000000\n",
            "C[9] = 27.000000\n"
          ]
        }
      ]
    }
  ]
}