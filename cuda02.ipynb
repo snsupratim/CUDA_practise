{
  "nbformat": 4,
  "nbformat_minor": 0,
  "metadata": {
    "colab": {
      "provenance": []
    },
    "kernelspec": {
      "name": "python3",
      "display_name": "Python 3"
    },
    "language_info": {
      "name": "python"
    }
  },
  "cells": [
    {
      "cell_type": "code",
      "execution_count": 2,
      "metadata": {
        "colab": {
          "base_uri": "https://localhost:8080/"
        },
        "id": "4mgdjmS6Nj_u",
        "outputId": "8e5257d2-77a9-44bc-d946-b3a455b961f1"
      },
      "outputs": [
        {
          "output_type": "stream",
          "name": "stdout",
          "text": [
            "Fibonacci Series:\n",
            "0 1 1 1 0 0 0 0 0 0 \n"
          ]
        }
      ],
      "source": [
        "# Step 1: Write CUDA code to a file\n",
        "code = \"\"\"\n",
        "#include <stdio.h>\n",
        "#include <cuda.h>\n",
        "\n",
        "#define N 10 // Number of Fibonacci numbers to generate\n",
        "\n",
        "// CUDA kernel to calculate Fibonacci numbers\n",
        "__global__ void fibonacciKernel(int *fib) {\n",
        "    int idx = threadIdx.x;\n",
        "\n",
        "    if (idx == 0) {\n",
        "        fib[idx] = 0; // First Fibonacci number\n",
        "    } else if (idx == 1) {\n",
        "        fib[idx] = 1; // Second Fibonacci number\n",
        "    } else if (idx < N) {\n",
        "        // Calculate Fibonacci using previously computed values\n",
        "        fib[idx] = fib[idx - 1] + fib[idx - 2];\n",
        "    }\n",
        "}\n",
        "\n",
        "int main() {\n",
        "    int *d_fib; // Device pointer for Fibonacci numbers\n",
        "    int h_fib[N]; // Host array to store results\n",
        "\n",
        "    // Allocate memory on the device\n",
        "    cudaMalloc((void **)&d_fib, N * sizeof(int));\n",
        "\n",
        "    // Launch the kernel with one block and N threads\n",
        "    fibonacciKernel<<<1, N>>>(d_fib);\n",
        "\n",
        "    // Copy the result from device to host\n",
        "    cudaMemcpy(h_fib, d_fib, N * sizeof(int), cudaMemcpyDeviceToHost);\n",
        "\n",
        "    // Print the Fibonacci series\n",
        "    printf(\"Fibonacci Series:\\\\n\");\n",
        "    for (int i = 0; i < N; i++) {\n",
        "        printf(\"%d \", h_fib[i]);\n",
        "    }\n",
        "    printf(\"\\\\n\");\n",
        "\n",
        "    // Free device memory\n",
        "    cudaFree(d_fib);\n",
        "\n",
        "    return 0;\n",
        "}\n",
        "\"\"\"\n",
        "\n",
        "# Write the code to a file\n",
        "with open('fibonacci.cu', 'w') as f:\n",
        "    f.write(code)\n",
        "\n",
        "# Step 2: Compile the CUDA code\n",
        "!nvcc fibonacci.cu -o fibonacci\n",
        "\n",
        "# Step 3: Run the compiled CUDA program\n",
        "!./fibonacci"
      ]
    }
  ]
}